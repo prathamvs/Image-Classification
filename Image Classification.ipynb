{
 "cells": [
  {
   "cell_type": "code",
   "execution_count": 1,
   "metadata": {},
   "outputs": [],
   "source": [
    "import pandas as pd\n",
    "import numpy as np\n",
    "%matplotlib inline\n",
    "import matplotlib as mpl\n",
    "import matplotlib.pyplot as plt\n",
    "import os"
   ]
  },
  {
   "cell_type": "code",
   "execution_count": 2,
   "metadata": {},
   "outputs": [],
   "source": [
    "import tensorflow as tf\n",
    "from tensorflow import keras"
   ]
  },
  {
   "cell_type": "code",
   "execution_count": 3,
   "metadata": {},
   "outputs": [],
   "source": [
    "train_dir = r'C:\\Users\\DELL\\Documents\\Machine Learning\\Deep Learning-T\\train'\n",
    "valdiation_dir = r'C:\\Users\\DELL\\Documents\\Machine Learning\\Deep Learning-T\\validation'\n",
    "test_dir = r'C:\\Users\\DELL\\Documents\\Machine Learning\\Deep Learning-T\\test'"
   ]
  },
  {
   "cell_type": "markdown",
   "metadata": {},
   "source": [
    "## Data Preprocessing"
   ]
  },
  {
   "cell_type": "code",
   "execution_count": 4,
   "metadata": {},
   "outputs": [],
   "source": [
    "from tensorflow.keras.preprocessing.image import ImageDataGenerator"
   ]
  },
  {
   "cell_type": "code",
   "execution_count": 5,
   "metadata": {},
   "outputs": [
    {
     "name": "stdout",
     "output_type": "stream",
     "text": [
      "Found 2000 images belonging to 2 classes.\n",
      "Found 1000 images belonging to 2 classes.\n"
     ]
    }
   ],
   "source": [
    "# Generating batches of tensor image data\n",
    "train_datagen = ImageDataGenerator(rescale=1./255)\n",
    "test_datagen = ImageDataGenerator(rescale = 1./255)\n",
    "\n",
    "train_generator = train_datagen.flow_from_directory(\n",
    "              train_dir,\n",
    "              target_size = (150,150),\n",
    "              batch_size=20,\n",
    "              class_mode='binary')\n",
    "\n",
    "validation_generator = test_datagen.flow_from_directory(\n",
    "              valdiation_dir,\n",
    "              target_size = (150,150),\n",
    "              batch_size=20,\n",
    "              class_mode='binary')"
   ]
  },
  {
   "cell_type": "code",
   "execution_count": 6,
   "metadata": {},
   "outputs": [],
   "source": [
    "from tensorflow.keras import layers,models"
   ]
  },
  {
   "cell_type": "code",
   "execution_count": 7,
   "metadata": {},
   "outputs": [],
   "source": [
    "model = models.Sequential()\n",
    "\n",
    "# First Convolutional layer\n",
    "model.add(layers.Conv2D(32,(3,3),activation=\"relu\",\n",
    "                      input_shape=(150,150,3)))\n",
    "model.add(layers.MaxPooling2D(2,2))\n",
    "\n",
    "# Second Convolutional layer\n",
    "model.add(layers.Conv2D(64,(3,3),activation=\"relu\"))\n",
    "model.add(layers.MaxPooling2D(2,2))\n",
    "\n",
    "# Third Convolutional layer\n",
    "model.add(layers.Conv2D(128,(3,3),activation=\"relu\"))\n",
    "model.add(layers.MaxPooling2D(2,2))\n",
    "\n",
    "# Fourth Convolutional layer\n",
    "model.add(layers.Conv2D(128,(3,3),activation=\"relu\"))\n",
    "model.add(layers.MaxPooling2D(2,2))\n",
    "\n",
    "model.add(layers.Flatten())\n",
    "\n",
    "model.add(layers.Dense(512,activation=\"relu\"))\n",
    "model.add(layers.Dense(1,activation='sigmoid'))"
   ]
  },
  {
   "cell_type": "code",
   "execution_count": 8,
   "metadata": {},
   "outputs": [
    {
     "name": "stdout",
     "output_type": "stream",
     "text": [
      "Model: \"sequential\"\n",
      "_________________________________________________________________\n",
      " Layer (type)                Output Shape              Param #   \n",
      "=================================================================\n",
      " conv2d (Conv2D)             (None, 148, 148, 32)      896       \n",
      "                                                                 \n",
      " max_pooling2d (MaxPooling2D  (None, 74, 74, 32)       0         \n",
      " )                                                               \n",
      "                                                                 \n",
      " conv2d_1 (Conv2D)           (None, 72, 72, 64)        18496     \n",
      "                                                                 \n",
      " max_pooling2d_1 (MaxPooling  (None, 36, 36, 64)       0         \n",
      " 2D)                                                             \n",
      "                                                                 \n",
      " conv2d_2 (Conv2D)           (None, 34, 34, 128)       73856     \n",
      "                                                                 \n",
      " max_pooling2d_2 (MaxPooling  (None, 17, 17, 128)      0         \n",
      " 2D)                                                             \n",
      "                                                                 \n",
      " conv2d_3 (Conv2D)           (None, 15, 15, 128)       147584    \n",
      "                                                                 \n",
      " max_pooling2d_3 (MaxPooling  (None, 7, 7, 128)        0         \n",
      " 2D)                                                             \n",
      "                                                                 \n",
      " flatten (Flatten)           (None, 6272)              0         \n",
      "                                                                 \n",
      " dense (Dense)               (None, 512)               3211776   \n",
      "                                                                 \n",
      " dense_1 (Dense)             (None, 1)                 513       \n",
      "                                                                 \n",
      "=================================================================\n",
      "Total params: 3,453,121\n",
      "Trainable params: 3,453,121\n",
      "Non-trainable params: 0\n",
      "_________________________________________________________________\n"
     ]
    }
   ],
   "source": [
    "model.summary()"
   ]
  },
  {
   "cell_type": "code",
   "execution_count": 9,
   "metadata": {},
   "outputs": [],
   "source": [
    "from tensorflow.keras import optimizers\n",
    "\n",
    "model.compile(loss=\"binary_crossentropy\",\n",
    "             optimizer = optimizers.RMSprop(learning_rate=1e-4),\n",
    "             metrics=['acc'])"
   ]
  },
  {
   "cell_type": "code",
   "execution_count": 10,
   "metadata": {},
   "outputs": [
    {
     "name": "stdout",
     "output_type": "stream",
     "text": [
      "Epoch 1/20\n"
     ]
    },
    {
     "name": "stderr",
     "output_type": "stream",
     "text": [
      "<ipython-input-10-13e2a2ab6519>:1: UserWarning: `Model.fit_generator` is deprecated and will be removed in a future version. Please use `Model.fit`, which supports generators.\n",
      "  history = model.fit_generator(\n"
     ]
    },
    {
     "name": "stdout",
     "output_type": "stream",
     "text": [
      "100/100 [==============================] - 32s 316ms/step - loss: 0.6919 - acc: 0.5420 - val_loss: 0.6842 - val_acc: 0.5010\n",
      "Epoch 2/20\n",
      "100/100 [==============================] - 31s 307ms/step - loss: 0.6761 - acc: 0.5780 - val_loss: 0.6610 - val_acc: 0.6180\n",
      "Epoch 3/20\n",
      "100/100 [==============================] - 31s 312ms/step - loss: 0.6490 - acc: 0.6260 - val_loss: 0.6414 - val_acc: 0.6350\n",
      "Epoch 4/20\n",
      "100/100 [==============================] - 33s 326ms/step - loss: 0.6183 - acc: 0.6705 - val_loss: 0.6206 - val_acc: 0.6490\n",
      "Epoch 5/20\n",
      "100/100 [==============================] - 34s 336ms/step - loss: 0.5852 - acc: 0.6835 - val_loss: 0.6979 - val_acc: 0.5710\n",
      "Epoch 6/20\n",
      "100/100 [==============================] - 33s 328ms/step - loss: 0.5563 - acc: 0.7235 - val_loss: 0.5989 - val_acc: 0.6690\n",
      "Epoch 7/20\n",
      "100/100 [==============================] - 33s 327ms/step - loss: 0.5358 - acc: 0.7180 - val_loss: 0.6001 - val_acc: 0.6780\n",
      "Epoch 8/20\n",
      "100/100 [==============================] - 35s 353ms/step - loss: 0.5204 - acc: 0.7340 - val_loss: 0.5905 - val_acc: 0.6730\n",
      "Epoch 9/20\n",
      "100/100 [==============================] - 33s 331ms/step - loss: 0.4975 - acc: 0.7480 - val_loss: 0.5777 - val_acc: 0.6950\n",
      "Epoch 10/20\n",
      "100/100 [==============================] - 32s 324ms/step - loss: 0.4699 - acc: 0.7675 - val_loss: 0.5867 - val_acc: 0.6990\n",
      "Epoch 11/20\n",
      "100/100 [==============================] - 34s 341ms/step - loss: 0.4533 - acc: 0.7920 - val_loss: 0.5781 - val_acc: 0.7000\n",
      "Epoch 12/20\n",
      "100/100 [==============================] - 39s 394ms/step - loss: 0.4248 - acc: 0.8105 - val_loss: 0.5642 - val_acc: 0.7220\n",
      "Epoch 13/20\n",
      "100/100 [==============================] - 36s 364ms/step - loss: 0.4065 - acc: 0.8150 - val_loss: 0.6142 - val_acc: 0.6830\n",
      "Epoch 14/20\n",
      "100/100 [==============================] - 33s 332ms/step - loss: 0.3882 - acc: 0.8225 - val_loss: 0.5957 - val_acc: 0.7140\n",
      "Epoch 15/20\n",
      "100/100 [==============================] - 35s 347ms/step - loss: 0.3623 - acc: 0.8385 - val_loss: 0.5504 - val_acc: 0.7230\n",
      "Epoch 16/20\n",
      "100/100 [==============================] - 35s 351ms/step - loss: 0.3488 - acc: 0.8535 - val_loss: 0.5729 - val_acc: 0.7190\n",
      "Epoch 17/20\n",
      "100/100 [==============================] - 33s 334ms/step - loss: 0.3288 - acc: 0.8495 - val_loss: 0.5655 - val_acc: 0.7310\n",
      "Epoch 18/20\n",
      "100/100 [==============================] - 34s 337ms/step - loss: 0.2908 - acc: 0.8825 - val_loss: 0.6176 - val_acc: 0.7200\n",
      "Epoch 19/20\n",
      "100/100 [==============================] - 32s 316ms/step - loss: 0.2741 - acc: 0.8950 - val_loss: 0.6115 - val_acc: 0.7260\n",
      "Epoch 20/20\n",
      "100/100 [==============================] - 32s 318ms/step - loss: 0.2540 - acc: 0.9040 - val_loss: 0.6100 - val_acc: 0.7290\n"
     ]
    }
   ],
   "source": [
    "history = model.fit_generator(\n",
    "    train_generator,\n",
    "    steps_per_epoch=100,\n",
    "    epochs=20,\n",
    "    validation_data=validation_generator,\n",
    "    validation_steps=50\n",
    ")"
   ]
  },
  {
   "cell_type": "code",
   "execution_count": 11,
   "metadata": {},
   "outputs": [
    {
     "data": {
      "image/png": "[encoded data removed]",
      "text/plain": [
       "<Figure size 576x360 with 1 Axes>"
      ]
     },
     "metadata": {
      "needs_background": "light"
     },
     "output_type": "display_data"
    }
   ],
   "source": [
    "pd.DataFrame(history.history).plot(figsize=(8,5))\n",
    "plt.grid(True)\n",
    "plt.gca().set_ylim(0,1)\n",
    "plt.show()"
   ]
  },
  {
   "cell_type": "code",
   "execution_count": 12,
   "metadata": {},
   "outputs": [],
   "source": [
    "model.save(\"model1(71%).h5\")"
   ]
  },
  {
   "cell_type": "code",
   "execution_count": 20,
   "metadata": {},
   "outputs": [],
   "source": [
    "from tensorflow.keras import backend as K\n",
    "\n",
    "K.clear_session()\n",
    "del model"
   ]
  },
  {
   "cell_type": "markdown",
   "metadata": {},
   "source": [
    "## Data Augmentation"
   ]
  },
  {
   "cell_type": "code",
   "execution_count": 22,
   "metadata": {},
   "outputs": [
    {
     "name": "stdout",
     "output_type": "stream",
     "text": [
      "Found 2000 images belonging to 2 classes.\n",
      "Found 1000 images belonging to 2 classes.\n"
     ]
    }
   ],
   "source": [
    "train_datagen = ImageDataGenerator(\n",
    "    rescale=1./255,\n",
    "    rotation_range=40,\n",
    "    width_shift_range=0.2,\n",
    "    height_shift_range=0.2,\n",
    "    shear_range=0.2,\n",
    "    zoom_range=0.2,\n",
    "    horizontal_flip=True,)\n",
    "\n",
    "test_datagen = ImageDataGenerator(rescale=1./255)\n",
    "\n",
    "train_generator = train_datagen.flow_from_directory(\n",
    "        train_dir,\n",
    "        target_size=(150, 150),\n",
    "        batch_size=32,\n",
    "        class_mode='binary')\n",
    "\n",
    "validation_generator = test_datagen.flow_from_directory(\n",
    "        valdiation_dir,\n",
    "        target_size=(150, 150),\n",
    "        batch_size=32,\n",
    "        class_mode='binary')\n"
   ]
  },
  {
   "cell_type": "code",
   "execution_count": 26,
   "metadata": {},
   "outputs": [
    {
     "name": "stderr",
     "output_type": "stream",
     "text": [
      "WARNING:absl:`lr` is deprecated, please use `learning_rate` instead, or use the legacy optimizer, e.g.,tf.keras.optimizers.legacy.RMSprop.\n"
     ]
    }
   ],
   "source": [
    "model = models.Sequential()\n",
    "model.add(layers.Conv2D(32, (3, 3), activation='relu',\n",
    "                        input_shape=(150, 150, 3)))\n",
    "model.add(layers.MaxPooling2D((2, 2)))\n",
    "model.add(layers.Conv2D(64, (3, 3), activation='relu'))\n",
    "model.add(layers.MaxPooling2D((2, 2)))\n",
    "model.add(layers.Conv2D(128, (3, 3), activation='relu'))\n",
    "model.add(layers.MaxPooling2D((2, 2)))\n",
    "model.add(layers.Conv2D(128, (3, 3), activation='relu'))\n",
    "model.add(layers.MaxPooling2D((2, 2)))\n",
    "model.add(layers.Flatten())\n",
    "model.add(layers.Dropout(0.5))\n",
    "model.add(layers.Dense(512, activation='relu'))\n",
    "model.add(layers.Dense(1, activation='sigmoid'))\n",
    "\n",
    "model.compile(loss='binary_crossentropy',\n",
    "              optimizer=optimizers.RMSprop(lr=1e-4),\n",
    "              metrics=['acc'])"
   ]
  },
  {
   "cell_type": "code",
   "execution_count": 27,
   "metadata": {},
   "outputs": [
    {
     "name": "stdout",
     "output_type": "stream",
     "text": [
      "Epoch 1/100\n"
     ]
    },
    {
     "name": "stderr",
     "output_type": "stream",
     "text": [
      "<ipython-input-27-e9002c582c13>:1: UserWarning: `Model.fit_generator` is deprecated and will be removed in a future version. Please use `Model.fit`, which supports generators.\n",
      "  history = model.fit_generator(\n"
     ]
    },
    {
     "name": "stdout",
     "output_type": "stream",
     "text": [
      "62/62 [==============================] - 31s 483ms/step - loss: 0.6984 - acc: 0.5208 - val_loss: 0.6931 - val_acc: 0.5020\n",
      "Epoch 2/100\n",
      "62/62 [==============================] - 29s 470ms/step - loss: 0.7004 - acc: 0.5422 - val_loss: 0.6871 - val_acc: 0.5433\n",
      "Epoch 3/100\n",
      "62/62 [==============================] - 29s 471ms/step - loss: 0.6799 - acc: 0.5595 - val_loss: 0.6741 - val_acc: 0.5696\n",
      "Epoch 4/100\n",
      "62/62 [==============================] - 29s 468ms/step - loss: 0.6615 - acc: 0.6037 - val_loss: 0.6381 - val_acc: 0.6472\n",
      "Epoch 5/100\n",
      "62/62 [==============================] - 29s 465ms/step - loss: 0.6545 - acc: 0.6184 - val_loss: 0.6148 - val_acc: 0.6613\n",
      "Epoch 6/100\n",
      "62/62 [==============================] - 30s 476ms/step - loss: 0.6365 - acc: 0.6204 - val_loss: 0.6397 - val_acc: 0.6069\n",
      "Epoch 7/100\n",
      "62/62 [==============================] - 31s 494ms/step - loss: 0.6301 - acc: 0.6616 - val_loss: 0.6756 - val_acc: 0.5675\n",
      "Epoch 8/100\n",
      "62/62 [==============================] - 35s 570ms/step - loss: 0.6335 - acc: 0.6580 - val_loss: 0.6010 - val_acc: 0.6663\n",
      "Epoch 9/100\n",
      "62/62 [==============================] - 39s 619ms/step - loss: 0.6232 - acc: 0.6499 - val_loss: 0.6008 - val_acc: 0.6673\n",
      "Epoch 10/100\n",
      "62/62 [==============================] - 37s 593ms/step - loss: 0.6079 - acc: 0.6641 - val_loss: 0.8355 - val_acc: 0.5625\n",
      "Epoch 11/100\n",
      "62/62 [==============================] - 37s 593ms/step - loss: 0.5983 - acc: 0.6768 - val_loss: 0.5811 - val_acc: 0.6865\n",
      "Epoch 12/100\n",
      "62/62 [==============================] - 36s 586ms/step - loss: 0.5934 - acc: 0.6855 - val_loss: 0.5698 - val_acc: 0.6804\n",
      "Epoch 13/100\n",
      "62/62 [==============================] - 37s 593ms/step - loss: 0.6035 - acc: 0.6743 - val_loss: 0.5834 - val_acc: 0.6724\n",
      "Epoch 14/100\n",
      "62/62 [==============================] - 36s 586ms/step - loss: 0.5904 - acc: 0.7002 - val_loss: 0.5791 - val_acc: 0.6845\n",
      "Epoch 15/100\n",
      "62/62 [==============================] - 36s 577ms/step - loss: 0.5873 - acc: 0.6865 - val_loss: 0.6173 - val_acc: 0.6683\n",
      "Epoch 16/100\n",
      "62/62 [==============================] - 40s 639ms/step - loss: 0.5858 - acc: 0.6880 - val_loss: 0.6228 - val_acc: 0.6532\n",
      "Epoch 17/100\n",
      "62/62 [==============================] - 36s 585ms/step - loss: 0.5753 - acc: 0.7012 - val_loss: 0.5453 - val_acc: 0.7097\n",
      "Epoch 18/100\n",
      "62/62 [==============================] - 41s 665ms/step - loss: 0.5744 - acc: 0.7027 - val_loss: 0.5726 - val_acc: 0.6976\n",
      "Epoch 19/100\n",
      "62/62 [==============================] - 38s 605ms/step - loss: 0.5675 - acc: 0.7058 - val_loss: 0.5072 - val_acc: 0.7460\n",
      "Epoch 20/100\n",
      "62/62 [==============================] - 39s 630ms/step - loss: 0.5931 - acc: 0.6865 - val_loss: 0.5854 - val_acc: 0.6734\n",
      "Epoch 21/100\n",
      "62/62 [==============================] - 37s 590ms/step - loss: 0.5531 - acc: 0.7332 - val_loss: 0.5216 - val_acc: 0.7409\n",
      "Epoch 22/100\n",
      "62/62 [==============================] - 36s 583ms/step - loss: 0.5544 - acc: 0.7215 - val_loss: 0.5131 - val_acc: 0.7329\n",
      "Epoch 23/100\n",
      "62/62 [==============================] - 37s 596ms/step - loss: 0.5495 - acc: 0.7165 - val_loss: 0.5330 - val_acc: 0.7278\n",
      "Epoch 24/100\n",
      "62/62 [==============================] - 36s 572ms/step - loss: 0.5621 - acc: 0.7012 - val_loss: 0.5205 - val_acc: 0.7198\n",
      "Epoch 25/100\n",
      "62/62 [==============================] - 36s 579ms/step - loss: 0.5517 - acc: 0.7231 - val_loss: 0.5564 - val_acc: 0.7147\n",
      "Epoch 26/100\n",
      "62/62 [==============================] - 43s 688ms/step - loss: 0.5463 - acc: 0.7221 - val_loss: 0.5085 - val_acc: 0.7419\n",
      "Epoch 27/100\n",
      "62/62 [==============================] - 44s 713ms/step - loss: 0.5432 - acc: 0.7246 - val_loss: 0.4967 - val_acc: 0.7550\n",
      "Epoch 28/100\n",
      "62/62 [==============================] - 44s 705ms/step - loss: 0.5271 - acc: 0.7434 - val_loss: 0.5233 - val_acc: 0.7258\n",
      "Epoch 29/100\n",
      "62/62 [==============================] - 45s 721ms/step - loss: 0.5346 - acc: 0.7200 - val_loss: 0.4943 - val_acc: 0.7550\n",
      "Epoch 30/100\n",
      "62/62 [==============================] - 34s 554ms/step - loss: 0.5279 - acc: 0.7307 - val_loss: 0.5080 - val_acc: 0.7530\n",
      "Epoch 31/100\n",
      "62/62 [==============================] - 37s 599ms/step - loss: 0.5275 - acc: 0.7317 - val_loss: 0.5043 - val_acc: 0.7641\n",
      "Epoch 32/100\n",
      "62/62 [==============================] - 53s 856ms/step - loss: 0.5224 - acc: 0.7429 - val_loss: 0.4776 - val_acc: 0.7560\n",
      "Epoch 33/100\n",
      "62/62 [==============================] - 46s 735ms/step - loss: 0.5302 - acc: 0.7439 - val_loss: 0.4797 - val_acc: 0.7712\n",
      "Epoch 34/100\n",
      "62/62 [==============================] - 36s 584ms/step - loss: 0.5118 - acc: 0.7561 - val_loss: 0.5228 - val_acc: 0.7359\n",
      "Epoch 35/100\n",
      "62/62 [==============================] - 46s 747ms/step - loss: 0.5143 - acc: 0.7556 - val_loss: 0.4668 - val_acc: 0.7581\n",
      "Epoch 36/100\n",
      "62/62 [==============================] - 41s 661ms/step - loss: 0.5001 - acc: 0.7510 - val_loss: 0.6026 - val_acc: 0.7127\n",
      "Epoch 37/100\n",
      "62/62 [==============================] - 37s 596ms/step - loss: 0.5046 - acc: 0.7642 - val_loss: 0.4756 - val_acc: 0.7591\n",
      "Epoch 38/100\n",
      "62/62 [==============================] - 40s 643ms/step - loss: 0.5087 - acc: 0.7470 - val_loss: 0.4670 - val_acc: 0.7601\n",
      "Epoch 39/100\n",
      "62/62 [==============================] - 40s 642ms/step - loss: 0.5028 - acc: 0.7505 - val_loss: 0.5601 - val_acc: 0.7157\n",
      "Epoch 40/100\n",
      "62/62 [==============================] - 44s 705ms/step - loss: 0.4960 - acc: 0.7546 - val_loss: 0.5755 - val_acc: 0.7329\n",
      "Epoch 41/100\n",
      "62/62 [==============================] - 35s 565ms/step - loss: 0.4895 - acc: 0.7698 - val_loss: 0.4468 - val_acc: 0.7823\n",
      "Epoch 42/100\n",
      "62/62 [==============================] - 43s 697ms/step - loss: 0.4782 - acc: 0.7708 - val_loss: 0.4649 - val_acc: 0.7601\n",
      "Epoch 43/100\n",
      "62/62 [==============================] - 45s 728ms/step - loss: 0.4892 - acc: 0.7637 - val_loss: 0.4610 - val_acc: 0.7742\n",
      "Epoch 44/100\n",
      "62/62 [==============================] - 41s 656ms/step - loss: 0.4755 - acc: 0.7724 - val_loss: 0.4287 - val_acc: 0.8054\n",
      "Epoch 45/100\n",
      "62/62 [==============================] - 42s 684ms/step - loss: 0.4768 - acc: 0.7825 - val_loss: 0.4332 - val_acc: 0.7954\n",
      "Epoch 46/100\n",
      "62/62 [==============================] - 43s 693ms/step - loss: 0.4687 - acc: 0.7866 - val_loss: 0.4426 - val_acc: 0.7893\n",
      "Epoch 47/100\n",
      "62/62 [==============================] - 46s 734ms/step - loss: 0.4680 - acc: 0.7830 - val_loss: 0.4529 - val_acc: 0.7933\n",
      "Epoch 48/100\n",
      "62/62 [==============================] - 42s 667ms/step - loss: 0.4704 - acc: 0.7805 - val_loss: 0.4554 - val_acc: 0.7823\n",
      "Epoch 49/100\n",
      "62/62 [==============================] - 36s 581ms/step - loss: 0.4646 - acc: 0.7708 - val_loss: 0.4443 - val_acc: 0.7893\n",
      "Epoch 50/100\n",
      "62/62 [==============================] - 35s 567ms/step - loss: 0.4428 - acc: 0.8018 - val_loss: 0.4687 - val_acc: 0.7812\n",
      "Epoch 51/100\n",
      "62/62 [==============================] - 36s 575ms/step - loss: 0.4448 - acc: 0.7912 - val_loss: 0.4700 - val_acc: 0.7802\n",
      "Epoch 52/100\n",
      "62/62 [==============================] - 43s 701ms/step - loss: 0.4503 - acc: 0.7866 - val_loss: 0.3992 - val_acc: 0.8115\n",
      "Epoch 53/100\n",
      "62/62 [==============================] - 45s 720ms/step - loss: 0.4380 - acc: 0.7962 - val_loss: 0.4228 - val_acc: 0.8014\n",
      "Epoch 54/100\n",
      "62/62 [==============================] - 36s 582ms/step - loss: 0.4497 - acc: 0.7927 - val_loss: 0.4467 - val_acc: 0.7954\n",
      "Epoch 55/100\n",
      "62/62 [==============================] - 36s 586ms/step - loss: 0.4267 - acc: 0.8064 - val_loss: 0.4167 - val_acc: 0.8054\n",
      "Epoch 56/100\n",
      "62/62 [==============================] - 39s 622ms/step - loss: 0.4551 - acc: 0.7907 - val_loss: 0.4044 - val_acc: 0.8165\n",
      "Epoch 57/100\n",
      "62/62 [==============================] - 35s 559ms/step - loss: 0.4359 - acc: 0.7927 - val_loss: 0.4589 - val_acc: 0.7913\n",
      "Epoch 58/100\n",
      "62/62 [==============================] - 35s 561ms/step - loss: 0.4485 - acc: 0.7978 - val_loss: 0.4273 - val_acc: 0.7964\n",
      "Epoch 59/100\n",
      "62/62 [==============================] - 38s 605ms/step - loss: 0.4449 - acc: 0.8039 - val_loss: 0.4218 - val_acc: 0.8044\n",
      "Epoch 60/100\n",
      "62/62 [==============================] - 35s 558ms/step - loss: 0.4198 - acc: 0.8089 - val_loss: 0.4956 - val_acc: 0.7661\n",
      "Epoch 61/100\n",
      "62/62 [==============================] - 36s 582ms/step - loss: 0.4046 - acc: 0.8267 - val_loss: 0.3825 - val_acc: 0.8256\n"
     ]
    },
    {
     "name": "stdout",
     "output_type": "stream",
     "text": [
      "Epoch 62/100\n",
      "62/62 [==============================] - 34s 551ms/step - loss: 0.4239 - acc: 0.8110 - val_loss: 0.4429 - val_acc: 0.7923\n",
      "Epoch 63/100\n",
      "62/62 [==============================] - 34s 555ms/step - loss: 0.4255 - acc: 0.8110 - val_loss: 0.4298 - val_acc: 0.8065\n",
      "Epoch 64/100\n",
      "62/62 [==============================] - 35s 558ms/step - loss: 0.3994 - acc: 0.8206 - val_loss: 0.4165 - val_acc: 0.7994\n",
      "Epoch 65/100\n",
      "62/62 [==============================] - 38s 616ms/step - loss: 0.4144 - acc: 0.8211 - val_loss: 0.5835 - val_acc: 0.7681\n",
      "Epoch 66/100\n",
      "62/62 [==============================] - 41s 656ms/step - loss: 0.4280 - acc: 0.8110 - val_loss: 0.3973 - val_acc: 0.8185\n",
      "Epoch 67/100\n",
      "62/62 [==============================] - 37s 602ms/step - loss: 0.4161 - acc: 0.8125 - val_loss: 0.4344 - val_acc: 0.8145\n",
      "Epoch 68/100\n",
      "62/62 [==============================] - 38s 621ms/step - loss: 0.4221 - acc: 0.8181 - val_loss: 0.4146 - val_acc: 0.8145\n",
      "Epoch 69/100\n",
      "62/62 [==============================] - 42s 677ms/step - loss: 0.3852 - acc: 0.8369 - val_loss: 0.4298 - val_acc: 0.8034\n",
      "Epoch 70/100\n",
      "62/62 [==============================] - 45s 721ms/step - loss: 0.4087 - acc: 0.8161 - val_loss: 0.3889 - val_acc: 0.8347\n",
      "Epoch 71/100\n",
      "62/62 [==============================] - 40s 636ms/step - loss: 0.4101 - acc: 0.8206 - val_loss: 0.4114 - val_acc: 0.8105\n",
      "Epoch 72/100\n",
      "62/62 [==============================] - 34s 543ms/step - loss: 0.3728 - acc: 0.8389 - val_loss: 0.4027 - val_acc: 0.8095\n",
      "Epoch 73/100\n",
      "62/62 [==============================] - 35s 561ms/step - loss: 0.3955 - acc: 0.8247 - val_loss: 0.4337 - val_acc: 0.8125\n",
      "Epoch 74/100\n",
      "62/62 [==============================] - 41s 657ms/step - loss: 0.4050 - acc: 0.8267 - val_loss: 0.3945 - val_acc: 0.8175\n",
      "Epoch 75/100\n",
      "62/62 [==============================] - 39s 620ms/step - loss: 0.3920 - acc: 0.8262 - val_loss: 0.3879 - val_acc: 0.8417\n",
      "Epoch 76/100\n",
      "62/62 [==============================] - 39s 624ms/step - loss: 0.3729 - acc: 0.8343 - val_loss: 0.4062 - val_acc: 0.8236\n",
      "Epoch 77/100\n",
      "62/62 [==============================] - 33s 531ms/step - loss: 0.3921 - acc: 0.8257 - val_loss: 0.4478 - val_acc: 0.7802\n",
      "Epoch 78/100\n",
      "62/62 [==============================] - 33s 535ms/step - loss: 0.3630 - acc: 0.8435 - val_loss: 0.4214 - val_acc: 0.8246\n",
      "Epoch 79/100\n",
      "62/62 [==============================] - 35s 556ms/step - loss: 0.3681 - acc: 0.8389 - val_loss: 0.3997 - val_acc: 0.8246\n",
      "Epoch 80/100\n",
      "62/62 [==============================] - 37s 589ms/step - loss: 0.3845 - acc: 0.8415 - val_loss: 0.4970 - val_acc: 0.7944\n",
      "Epoch 81/100\n",
      "62/62 [==============================] - 34s 551ms/step - loss: 0.3790 - acc: 0.8415 - val_loss: 0.4113 - val_acc: 0.8095\n",
      "Epoch 82/100\n",
      "62/62 [==============================] - 36s 585ms/step - loss: 0.3754 - acc: 0.8399 - val_loss: 0.4196 - val_acc: 0.8165\n",
      "Epoch 83/100\n",
      "62/62 [==============================] - 38s 617ms/step - loss: 0.3764 - acc: 0.8374 - val_loss: 0.4301 - val_acc: 0.8095\n",
      "Epoch 84/100\n",
      "62/62 [==============================] - 35s 556ms/step - loss: 0.3585 - acc: 0.8389 - val_loss: 0.4988 - val_acc: 0.7873\n",
      "Epoch 85/100\n",
      "62/62 [==============================] - 35s 569ms/step - loss: 0.3516 - acc: 0.8420 - val_loss: 0.4632 - val_acc: 0.8065\n",
      "Epoch 86/100\n",
      "62/62 [==============================] - 35s 559ms/step - loss: 0.3534 - acc: 0.8481 - val_loss: 0.3788 - val_acc: 0.8296\n",
      "Epoch 87/100\n",
      "62/62 [==============================] - 31s 506ms/step - loss: 0.3670 - acc: 0.8453 - val_loss: 0.3986 - val_acc: 0.8417\n",
      "Epoch 88/100\n",
      "62/62 [==============================] - 31s 499ms/step - loss: 0.3407 - acc: 0.8521 - val_loss: 0.4178 - val_acc: 0.8317\n",
      "Epoch 89/100\n",
      "62/62 [==============================] - 31s 497ms/step - loss: 0.3410 - acc: 0.8460 - val_loss: 0.3729 - val_acc: 0.8327\n",
      "Epoch 90/100\n",
      "62/62 [==============================] - 32s 519ms/step - loss: 0.3420 - acc: 0.8537 - val_loss: 0.6008 - val_acc: 0.7550\n",
      "Epoch 91/100\n",
      "62/62 [==============================] - 31s 496ms/step - loss: 0.3475 - acc: 0.8501 - val_loss: 0.5296 - val_acc: 0.7883\n",
      "Epoch 92/100\n",
      "62/62 [==============================] - 31s 503ms/step - loss: 0.3510 - acc: 0.8481 - val_loss: 0.5723 - val_acc: 0.7752\n",
      "Epoch 93/100\n",
      "62/62 [==============================] - 33s 525ms/step - loss: 0.3364 - acc: 0.8547 - val_loss: 0.3707 - val_acc: 0.8427\n",
      "Epoch 94/100\n",
      "62/62 [==============================] - 31s 497ms/step - loss: 0.3278 - acc: 0.8659 - val_loss: 0.3867 - val_acc: 0.8498\n",
      "Epoch 95/100\n",
      "62/62 [==============================] - 31s 500ms/step - loss: 0.3504 - acc: 0.8450 - val_loss: 0.3976 - val_acc: 0.8266\n",
      "Epoch 96/100\n",
      "62/62 [==============================] - 32s 518ms/step - loss: 0.3486 - acc: 0.8471 - val_loss: 0.3956 - val_acc: 0.8256\n",
      "Epoch 97/100\n",
      "62/62 [==============================] - 34s 552ms/step - loss: 0.3490 - acc: 0.8526 - val_loss: 0.3716 - val_acc: 0.8468\n",
      "Epoch 98/100\n",
      "62/62 [==============================] - 37s 600ms/step - loss: 0.3411 - acc: 0.8569 - val_loss: 0.3923 - val_acc: 0.8367\n",
      "Epoch 99/100\n",
      "62/62 [==============================] - 39s 626ms/step - loss: 0.3297 - acc: 0.8598 - val_loss: 0.7500 - val_acc: 0.7530\n",
      "Epoch 100/100\n",
      "62/62 [==============================] - 38s 609ms/step - loss: 0.3238 - acc: 0.8592 - val_loss: 0.3507 - val_acc: 0.8518\n"
     ]
    }
   ],
   "source": [
    "history = model.fit_generator(\n",
    "      train_generator,\n",
    "      steps_per_epoch=62,\n",
    "      epochs=100,\n",
    "      validation_data=validation_generator,\n",
    "      validation_steps=31)"
   ]
  },
  {
   "cell_type": "code",
   "execution_count": 28,
   "metadata": {},
   "outputs": [
    {
     "data": {
      "image/png": "[encoded data removed]",
      "text/plain": [
       "<Figure size 576x360 with 1 Axes>"
      ]
     },
     "metadata": {
      "needs_background": "light"
     },
     "output_type": "display_data"
    }
   ],
   "source": [
    "pd.DataFrame(history.history).plot(figsize=(8,5))\n",
    "plt.grid(True)\n",
    "plt.gca().set_ylim(0,1)\n",
    "plt.show()"
   ]
  },
  {
   "cell_type": "code",
   "execution_count": 29,
   "metadata": {},
   "outputs": [],
   "source": [
    "model.save(\"model1(85%).h5\")"
   ]
  },
  {
   "cell_type": "code",
   "execution_count": 30,
   "metadata": {},
   "outputs": [],
   "source": [
    "K.clear_session()\n",
    "del model"
   ]
  },
  {
   "cell_type": "markdown",
   "metadata": {},
   "source": [
    "## VGG16"
   ]
  },
  {
   "cell_type": "code",
   "execution_count": 31,
   "metadata": {},
   "outputs": [
    {
     "name": "stdout",
     "output_type": "stream",
     "text": [
      "Found 2000 images belonging to 2 classes.\n",
      "Found 1000 images belonging to 2 classes.\n"
     ]
    }
   ],
   "source": [
    "from tensorflow.keras.preprocessing.image import ImageDataGenerator\n",
    "\n",
    "train_datagen = ImageDataGenerator(\n",
    "    rescale = 1./255,\n",
    "    rotation_range = 40,\n",
    "    width_shift_range = 0.2,\n",
    "    height_shift_range=0.2,\n",
    "    shear_range=0.2,\n",
    "    zoom_range=0.2,\n",
    "    horizontal_flip=True\n",
    ")\n",
    "\n",
    "test_datagen = ImageDataGenerator(rescale=1./255)\n",
    "\n",
    "train_generator = train_datagen.flow_from_directory(\n",
    "    train_dir,\n",
    "    target_size=(150,150),\n",
    "    batch_size=20,\n",
    "    class_mode='binary'\n",
    ")\n",
    "\n",
    "validation_generator = test_datagen.flow_from_directory(\n",
    "    valdiation_dir,\n",
    "    target_size=(150,150),\n",
    "    batch_size=20,\n",
    "    class_mode = 'binary'\n",
    ")"
   ]
  },
  {
   "cell_type": "code",
   "execution_count": 33,
   "metadata": {},
   "outputs": [
    {
     "name": "stdout",
     "output_type": "stream",
     "text": [
      "Downloading data from https://storage.googleapis.com/tensorflow/keras-applications/vgg16/vgg16_weights_tf_dim_ordering_tf_kernels_notop.h5\n",
      "58889256/58889256 [==============================] - 5s 0us/step\n"
     ]
    }
   ],
   "source": [
    "from tensorflow.keras.applications import VGG16\n",
    "conv_base = VGG16(weights='imagenet',\n",
    "                 include_top=False,\n",
    "                 input_shape=(150,150,3))"
   ]
  },
  {
   "cell_type": "code",
   "execution_count": 34,
   "metadata": {},
   "outputs": [
    {
     "name": "stdout",
     "output_type": "stream",
     "text": [
      "Model: \"vgg16\"\n",
      "_________________________________________________________________\n",
      " Layer (type)                Output Shape              Param #   \n",
      "=================================================================\n",
      " input_1 (InputLayer)        [(None, 150, 150, 3)]     0         \n",
      "                                                                 \n",
      " block1_conv1 (Conv2D)       (None, 150, 150, 64)      1792      \n",
      "                                                                 \n",
      " block1_conv2 (Conv2D)       (None, 150, 150, 64)      36928     \n",
      "                                                                 \n",
      " block1_pool (MaxPooling2D)  (None, 75, 75, 64)        0         \n",
      "                                                                 \n",
      " block2_conv1 (Conv2D)       (None, 75, 75, 128)       73856     \n",
      "                                                                 \n",
      " block2_conv2 (Conv2D)       (None, 75, 75, 128)       147584    \n",
      "                                                                 \n",
      " block2_pool (MaxPooling2D)  (None, 37, 37, 128)       0         \n",
      "                                                                 \n",
      " block3_conv1 (Conv2D)       (None, 37, 37, 256)       295168    \n",
      "                                                                 \n",
      " block3_conv2 (Conv2D)       (None, 37, 37, 256)       590080    \n",
      "                                                                 \n",
      " block3_conv3 (Conv2D)       (None, 37, 37, 256)       590080    \n",
      "                                                                 \n",
      " block3_pool (MaxPooling2D)  (None, 18, 18, 256)       0         \n",
      "                                                                 \n",
      " block4_conv1 (Conv2D)       (None, 18, 18, 512)       1180160   \n",
      "                                                                 \n",
      " block4_conv2 (Conv2D)       (None, 18, 18, 512)       2359808   \n",
      "                                                                 \n",
      " block4_conv3 (Conv2D)       (None, 18, 18, 512)       2359808   \n",
      "                                                                 \n",
      " block4_pool (MaxPooling2D)  (None, 9, 9, 512)         0         \n",
      "                                                                 \n",
      " block5_conv1 (Conv2D)       (None, 9, 9, 512)         2359808   \n",
      "                                                                 \n",
      " block5_conv2 (Conv2D)       (None, 9, 9, 512)         2359808   \n",
      "                                                                 \n",
      " block5_conv3 (Conv2D)       (None, 9, 9, 512)         2359808   \n",
      "                                                                 \n",
      " block5_pool (MaxPooling2D)  (None, 4, 4, 512)         0         \n",
      "                                                                 \n",
      "=================================================================\n",
      "Total params: 14,714,688\n",
      "Trainable params: 14,714,688\n",
      "Non-trainable params: 0\n",
      "_________________________________________________________________\n"
     ]
    }
   ],
   "source": [
    "conv_base.summary()"
   ]
  },
  {
   "cell_type": "code",
   "execution_count": 35,
   "metadata": {},
   "outputs": [],
   "source": [
    "from  tensorflow.keras import models\n",
    "from tensorflow.keras import layers\n",
    "\n",
    "model = models.Sequential()\n",
    "model.add(conv_base)\n",
    "model.add(layers.Flatten())\n",
    "model.add(layers.Dense(256,activation='relu'))\n",
    "model.add(layers.Dense(1,activation='sigmoid'))"
   ]
  },
  {
   "cell_type": "code",
   "execution_count": 36,
   "metadata": {},
   "outputs": [
    {
     "name": "stdout",
     "output_type": "stream",
     "text": [
      "Model: \"sequential\"\n",
      "_________________________________________________________________\n",
      " Layer (type)                Output Shape              Param #   \n",
      "=================================================================\n",
      " vgg16 (Functional)          (None, 4, 4, 512)         14714688  \n",
      "                                                                 \n",
      " flatten (Flatten)           (None, 8192)              0         \n",
      "                                                                 \n",
      " dense (Dense)               (None, 256)               2097408   \n",
      "                                                                 \n",
      " dense_1 (Dense)             (None, 1)                 257       \n",
      "                                                                 \n",
      "=================================================================\n",
      "Total params: 16,812,353\n",
      "Trainable params: 16,812,353\n",
      "Non-trainable params: 0\n",
      "_________________________________________________________________\n"
     ]
    }
   ],
   "source": [
    "model.summary()"
   ]
  },
  {
   "cell_type": "code",
   "execution_count": 37,
   "metadata": {},
   "outputs": [],
   "source": [
    "# conv_base.trainable = False"
   ]
  },
  {
   "cell_type": "code",
   "execution_count": 38,
   "metadata": {},
   "outputs": [
    {
     "name": "stderr",
     "output_type": "stream",
     "text": [
      "WARNING:absl:`lr` is deprecated, please use `learning_rate` instead, or use the legacy optimizer, e.g.,tf.keras.optimizers.legacy.RMSprop.\n"
     ]
    }
   ],
   "source": [
    "from tensorflow.keras import optimizers\n",
    "\n",
    "model.compile(loss=\"binary_crossentropy\",\n",
    "             optimizer = optimizers.RMSprop(lr=2e-5),\n",
    "             metrics=['acc'])"
   ]
  },
  {
   "cell_type": "code",
   "execution_count": 43,
   "metadata": {},
   "outputs": [],
   "source": [
    "checkpoint_cb = keras.callbacks.ModelCheckpoint(\"CNN_Project_Model-{epoch:02d}.h5\",save_best_only=True)"
   ]
  },
  {
   "cell_type": "code",
   "execution_count": 44,
   "metadata": {},
   "outputs": [
    {
     "name": "stdout",
     "output_type": "stream",
     "text": [
      "Epoch 1/30\n",
      "100/100 [==============================] - 418s 4s/step - loss: 0.6934 - acc: 0.5000 - val_loss: 0.6931 - val_acc: 0.5000\n",
      "Epoch 2/30\n",
      "100/100 [==============================] - 404s 4s/step - loss: 0.6932 - acc: 0.4980 - val_loss: 0.6931 - val_acc: 0.5000\n",
      "Epoch 3/30\n",
      "100/100 [==============================] - 386s 4s/step - loss: 0.6932 - acc: 0.4960 - val_loss: 0.6931 - val_acc: 0.5000\n",
      "Epoch 4/30\n",
      "100/100 [==============================] - 404s 4s/step - loss: 0.6932 - acc: 0.4880 - val_loss: 0.6931 - val_acc: 0.5000\n",
      "Epoch 5/30\n",
      "100/100 [==============================] - 411s 4s/step - loss: 0.6932 - acc: 0.4960 - val_loss: 0.6931 - val_acc: 0.5000\n",
      "Epoch 6/30\n",
      "100/100 [==============================] - 399s 4s/step - loss: 1.8106 - acc: 0.5105 - val_loss: 0.6922 - val_acc: 0.5790\n",
      "Epoch 7/30\n",
      "100/100 [==============================] - 406s 4s/step - loss: 0.6958 - acc: 0.5055 - val_loss: 0.6932 - val_acc: 0.5000\n",
      "Epoch 8/30\n",
      "100/100 [==============================] - 420s 4s/step - loss: 0.6933 - acc: 0.5000 - val_loss: 0.6932 - val_acc: 0.5000\n",
      "Epoch 9/30\n",
      "100/100 [==============================] - 398s 4s/step - loss: 0.6932 - acc: 0.5000 - val_loss: 0.6931 - val_acc: 0.5000\n",
      "Epoch 10/30\n",
      "100/100 [==============================] - 405s 4s/step - loss: 0.6932 - acc: 0.4950 - val_loss: 0.6931 - val_acc: 0.5000\n",
      "Epoch 11/30\n",
      "100/100 [==============================] - 416s 4s/step - loss: 0.6932 - acc: 0.4940 - val_loss: 0.6931 - val_acc: 0.5000\n",
      "Epoch 12/30\n",
      "100/100 [==============================] - 407s 4s/step - loss: 0.6932 - acc: 0.4880 - val_loss: 0.6931 - val_acc: 0.5000\n",
      "Epoch 13/30\n",
      "100/100 [==============================] - 399s 4s/step - loss: 0.6932 - acc: 0.4690 - val_loss: 0.6931 - val_acc: 0.5000\n",
      "Epoch 14/30\n",
      "100/100 [==============================] - 416s 4s/step - loss: 0.6932 - acc: 0.4850 - val_loss: 0.6931 - val_acc: 0.5000\n",
      "Epoch 15/30\n",
      "100/100 [==============================] - 417s 4s/step - loss: 0.6932 - acc: 0.4830 - val_loss: 0.6931 - val_acc: 0.5000\n",
      "Epoch 16/30\n",
      "100/100 [==============================] - 393s 4s/step - loss: 0.6932 - acc: 0.4830 - val_loss: 0.6931 - val_acc: 0.5000\n",
      "Epoch 17/30\n",
      "100/100 [==============================] - 416s 4s/step - loss: 0.6932 - acc: 0.4910 - val_loss: 0.6931 - val_acc: 0.5000\n",
      "Epoch 18/30\n",
      "100/100 [==============================] - 418s 4s/step - loss: 0.6932 - acc: 0.4870 - val_loss: 0.6931 - val_acc: 0.5000\n",
      "Epoch 19/30\n",
      "100/100 [==============================] - 405s 4s/step - loss: 0.6932 - acc: 0.4850 - val_loss: 0.6931 - val_acc: 0.5000\n",
      "Epoch 20/30\n",
      "100/100 [==============================] - 407s 4s/step - loss: 0.6932 - acc: 0.4860 - val_loss: 0.6931 - val_acc: 0.5000\n",
      "Epoch 21/30\n",
      "100/100 [==============================] - 419s 4s/step - loss: 0.6932 - acc: 0.5000 - val_loss: 0.6931 - val_acc: 0.5000\n",
      "Epoch 22/30\n",
      "100/100 [==============================] - 409s 4s/step - loss: 0.6932 - acc: 0.5030 - val_loss: 0.6931 - val_acc: 0.5000\n",
      "Epoch 23/30\n",
      "100/100 [==============================] - 400s 4s/step - loss: 0.6932 - acc: 0.4970 - val_loss: 0.6931 - val_acc: 0.5000\n",
      "Epoch 24/30\n",
      "100/100 [==============================] - 420s 4s/step - loss: 0.6932 - acc: 0.4870 - val_loss: 0.6932 - val_acc: 0.5000\n",
      "Epoch 25/30\n",
      "100/100 [==============================] - 403s 4s/step - loss: 0.6932 - acc: 0.4970 - val_loss: 0.6931 - val_acc: 0.5000\n",
      "Epoch 26/30\n",
      "100/100 [==============================] - 379s 4s/step - loss: 0.6932 - acc: 0.4910 - val_loss: 0.6931 - val_acc: 0.5000\n",
      "Epoch 27/30\n",
      "100/100 [==============================] - 423s 4s/step - loss: 0.6932 - acc: 0.4910 - val_loss: 0.6932 - val_acc: 0.5000\n",
      "Epoch 28/30\n",
      "100/100 [==============================] - 453s 5s/step - loss: 0.6932 - acc: 0.5000 - val_loss: 0.6932 - val_acc: 0.5000\n",
      "Epoch 29/30\n",
      "100/100 [==============================] - 446s 4s/step - loss: 0.6932 - acc: 0.5000 - val_loss: 0.6931 - val_acc: 0.5000\n",
      "Epoch 30/30\n",
      "100/100 [==============================] - 414s 4s/step - loss: 0.6932 - acc: 0.4880 - val_loss: 0.6931 - val_acc: 0.5000\n"
     ]
    }
   ],
   "source": [
    "history= model.fit(\n",
    "    train_generator,\n",
    "    steps_per_epoch=100,\n",
    "    epochs=30,\n",
    "    validation_data=validation_generator,\n",
    "    validation_steps=50,\n",
    "    callbacks = [checkpoint_cb]\n",
    ")\n"
   ]
  },
  {
   "cell_type": "code",
   "execution_count": 46,
   "metadata": {},
   "outputs": [
    {
     "data": {
      "image/png": "[encoded data removed]",
      "text/plain": [
       "<Figure size 576x360 with 1 Axes>"
      ]
     },
     "metadata": {
      "needs_background": "light"
     },
     "output_type": "display_data"
    }
   ],
   "source": [
    "pd.DataFrame(history.history).plot(figsize=(8,5))\n",
    "plt.grid(True)\n",
    "plt.gca().set_ylim(0,1)\n",
    "plt.show()"
   ]
  },
  {
   "cell_type": "code",
   "execution_count": 47,
   "metadata": {},
   "outputs": [],
   "source": [
    "hist_df = pd.DataFrame(history.history)"
   ]
  },
  {
   "cell_type": "code",
   "execution_count": 48,
   "metadata": {},
   "outputs": [],
   "source": [
    "hist_csv_file = 'history.csv'\n",
    "with open(hist_csv_file,mode='w') as f:\n",
    "    hist_df.to_csv(f)"
   ]
  },
  {
   "cell_type": "code",
   "execution_count": 49,
   "metadata": {},
   "outputs": [
    {
     "name": "stdout",
     "output_type": "stream",
     "text": [
      "Found 1007 images belonging to 3 classes.\n"
     ]
    }
   ],
   "source": [
    "test_generator = test_datagen.flow_from_directory(\n",
    "    test_dir,\n",
    "    target_size =(150,150),\n",
    "    batch_size=20,\n",
    "    class_mode='binary'\n",
    ")"
   ]
  },
  {
   "cell_type": "code",
   "execution_count": 50,
   "metadata": {},
   "outputs": [
    {
     "name": "stdout",
     "output_type": "stream",
     "text": [
      "50/50 [==============================] - 39s 771ms/step - loss: 0.6969 - acc: 0.0060\n"
     ]
    },
    {
     "data": {
      "text/plain": [
       "[0.696887731552124, 0.006000000052154064]"
      ]
     },
     "execution_count": 50,
     "metadata": {},
     "output_type": "execute_result"
    }
   ],
   "source": [
    "model.evaluate(test_generator,steps=50)"
   ]
  },
  {
   "cell_type": "code",
   "execution_count": null,
   "metadata": {},
   "outputs": [],
   "source": []
  }
 ],
 "metadata": {
  "kernelspec": {
   "display_name": "Python 3",
   "language": "python",
   "name": "python3"
  },
  "language_info": {
   "codemirror_mode": {
    "name": "ipython",
    "version": 3
   },
   "file_extension": ".py",
   "mimetype": "text/x-python",
   "name": "python",
   "nbconvert_exporter": "python",
   "pygments_lexer": "ipython3",
   "version": "3.8.5"
  }
 },
 "nbformat": 4,
 "nbformat_minor": 4
}
